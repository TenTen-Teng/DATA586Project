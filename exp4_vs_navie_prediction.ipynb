{
 "cells": [
  {
   "cell_type": "code",
   "execution_count": null,
   "metadata": {
    "colab": {
     "base_uri": "https://localhost:8080/"
    },
    "executionInfo": {
     "elapsed": 15052,
     "status": "ok",
     "timestamp": 1745095794331,
     "user": {
      "displayName": "Louis Lau",
      "userId": "12589573439444477562"
     },
     "user_tz": 420
    },
    "id": "B4qOsdwyZlTX",
    "outputId": "1db64d44-6080-4ef0-e2c6-ee00a312f551"
   },
   "outputs": [
    {
     "name": "stdout",
     "output_type": "stream",
     "text": [
      "Mounted at /content/drive\n"
     ]
    }
   ],
   "source": [
    "# Connect google drive.\n",
    "\n",
    "from google.colab import drive\n",
    "drive.mount('/content/drive')"
   ]
  },
  {
   "cell_type": "code",
   "execution_count": null,
   "metadata": {
    "colab": {
     "base_uri": "https://localhost:8080/"
    },
    "executionInfo": {
     "elapsed": 1216,
     "status": "ok",
     "timestamp": 1745095808528,
     "user": {
      "displayName": "Louis Lau",
      "userId": "12589573439444477562"
     },
     "user_tz": 420
    },
    "id": "WCqI8zrlp99U",
    "outputId": "d56fb331-b1fe-4912-a33f-d7702f6c3a7f"
   },
   "outputs": [
    {
     "name": "stdout",
     "output_type": "stream",
     "text": [
      "Cloning into 'CryptoMamba'...\n",
      "remote: Enumerating objects: 187, done.\u001b[K\n",
      "remote: Counting objects: 100% (55/55), done.\u001b[K\n",
      "remote: Compressing objects: 100% (21/21), done.\u001b[K\n",
      "remote: Total 187 (delta 43), reused 34 (delta 34), pack-reused 132 (from 1)\u001b[K\n",
      "Receiving objects: 100% (187/187), 1.37 MiB | 3.57 MiB/s, done.\n",
      "Resolving deltas: 100% (89/89), done.\n",
      "/content/CryptoMamba\n"
     ]
    }
   ],
   "source": [
    "# Clone repo to current session.\n",
    "!git clone https://github.com/MShahabSepehri/CryptoMamba.git\n",
    "%cd CryptoMamba/"
   ]
  },
  {
   "cell_type": "code",
   "execution_count": null,
   "metadata": {
    "executionInfo": {
     "elapsed": 270630,
     "status": "ok",
     "timestamp": 1745096085549,
     "user": {
      "displayName": "Louis Lau",
      "userId": "12589573439444477562"
     },
     "user_tz": 420
    },
    "id": "QoSiNMCtqGj5"
   },
   "outputs": [],
   "source": [
    "# Install required dependencies.\n",
    "\n",
    "%%capture\n",
    "!pip install mamba-ssm[causal-conv1d]\n",
    "!pip install -r requirements.txt"
   ]
  },
  {
   "cell_type": "markdown",
   "metadata": {
    "id": "ua9zMZIAWbtj"
   },
   "source": [
    "# Compare with Naive Guess"
   ]
  },
  {
   "cell_type": "code",
   "execution_count": 7,
   "metadata": {
    "colab": {
     "base_uri": "https://localhost:8080/"
    },
    "executionInfo": {
     "elapsed": 8557,
     "status": "ok",
     "timestamp": 1745097294503,
     "user": {
      "displayName": "Louis Lau",
      "userId": "12589573439444477562"
     },
     "user_tz": 420
    },
    "id": "nQmdLjo_gyZ-",
    "outputId": "dc30b30a-81d3-4433-be84-18571663fa03"
   },
   "outputs": [
    {
     "name": "stdout",
     "output_type": "stream",
     "text": [
      "Seed set to 23\n",
      "['Timestamp', 'Open', 'High', 'Low', 'Close', 'Volume']\n",
      "['Timestamp', 'Open', 'High', 'Low', 'Close', 'Volume']\n",
      "['Timestamp', 'Open', 'High', 'Low', 'Close', 'Volume']\n",
      "28 data points loaded as test split.\n",
      "/usr/local/lib/python3.11/dist-packages/torch/utils/data/dataloader.py:624: UserWarning: This DataLoader will create 4 worker processes in total. Our suggested max number of worker in current system is 2, which is smaller than what this DataLoader is going to create. Please be aware that excessive worker creation might get DataLoader running slow or even freeze, lower the worker number to avoid potential slowness/freeze if necessary.\n",
      "  warnings.warn(\n",
      " Model        MSE          RMSE     MAPE      MAE    \n",
      "CMamba_exp4    48490.383     220.205   0.03085  156.943  \n",
      "Navie_prediction    29699.06      172.334   2.05396  104.894  \n",
      "Results saved to /content/CryptoMamba/Results/CMamba_exp4/cmamba_v_exp4/test_comparison.jpg\n"
     ]
    }
   ],
   "source": [
    "!python scripts/evaluation_navie.py --config cmamba_v_exp4 --ckpt_path ./logs/CMamba_exp4/version_1/checkpoints/epoch49-val-rmse53.6560.ckpt"
   ]
  },
  {
   "cell_type": "code",
   "execution_count": null,
   "metadata": {
    "id": "tuMLcCIn2xnu"
   },
   "outputs": [],
   "source": []
  }
 ],
 "metadata": {
  "accelerator": "GPU",
  "colab": {
   "gpuType": "T4",
   "provenance": [
    {
     "file_id": "https://github.com/MShahabSepehri/CryptoMamba/blob/main/example.ipynb",
     "timestamp": 1744695968383
    }
   ]
  },
  "kernelspec": {
   "display_name": "Python 3",
   "language": "python",
   "name": "python3"
  },
  "language_info": {
   "codemirror_mode": {
    "name": "ipython",
    "version": 3
   },
   "file_extension": ".py",
   "mimetype": "text/x-python",
   "name": "python",
   "nbconvert_exporter": "python",
   "pygments_lexer": "ipython3",
   "version": "3.9.5"
  }
 },
 "nbformat": 4,
 "nbformat_minor": 1
}
