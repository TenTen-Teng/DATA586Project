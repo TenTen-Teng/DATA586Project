{
 "cells": [
  {
   "cell_type": "markdown",
   "id": "a11f8bee",
   "metadata": {},
   "source": [
    "# convert_sample_to_cryptoMamba_format.ipynb\n",
    "\n",
    "This script preprocesses a sample Bitcoin dataset (sourced from Kaggle) and converts it into the same structure used by the original CryptoMamba project. It performs timestamp conversion, chronological sorting, and time-based splitting into training, validation, and testing sets (4 years / 1 year / 1 year). The resulting CSV files are formatted to be fully compatible with CryptoMamba’s data pipeline and `mode_1.yaml` configuration.\n",
    "\n",
    "**Output files:**\n",
    "- `train_bitcoin_sample.csv`\n",
    "- `val_bitcoin_sample.csv`\n",
    "- `test_bitcoin_sample.csv`\n",
    "\n",
    "**Purpose:** Convert raw sample data into the expected CryptoMamba format for model training and evaluation."
   ]
  },
  {
   "cell_type": "code",
   "execution_count": null,
   "id": "faf2efe7",
   "metadata": {},
   "outputs": [],
   "source": [
    "import pandas as pd\n",
    "\n",
    "# Step 1: Load the raw Kaggle Bitcoin dataset\n",
    "df = pd.read_csv('coin_Bitcoin.csv')\n",
    "\n",
    "# Step 2: Select only the required columns\n",
    "df = df[['Open', 'High', 'Low', 'Close', 'Volume', 'Date']].copy()\n",
    "\n",
    "# Step 3: Convert 'Date' to datetime format\n",
    "df['Date'] = pd.to_datetime(df['Date'])\n",
    "\n",
    "# Step 4: Add UNIX timestamp column (in seconds)\n",
    "df['Timestamp'] = df['Date'].view('int64') // 10**9\n",
    "\n",
    "# Step 5: Sort chronologically for proper splitting\n",
    "df = df.sort_values('Date').reset_index(drop=True)\n",
    "\n",
    "# Step 6: Define 4y/1y/1y split boundaries based on date\n",
    "start_date = df['Date'].min()\n",
    "train_end = start_date + pd.DateOffset(years=4)\n",
    "val_end = train_end + pd.DateOffset(years=1)\n",
    "test_end = val_end + pd.DateOffset(years=1)\n",
    "\n",
    "# Step 7: Split into train, val, and test sets\n",
    "df_train = df[df['Date'] < train_end].copy()\n",
    "df_val   = df[(df['Date'] >= train_end) & (df['Date'] < val_end)].copy()\n",
    "df_test  = df[(df['Date'] >= val_end) & (df['Date'] < test_end)].copy()\n",
    "\n",
    "# Step 8: Drop 'Date' column (model uses only numeric inputs)\n",
    "for split in [df_train, df_val, df_test]:\n",
    "    split.drop(columns='Date', inplace=True)\n",
    "\n",
    "# Step 9: Save train, val, and test datasets\n",
    "df_train.to_csv('train_bitcoin_sample.csv')\n",
    "df_val.to_csv('val_bitcoin_sample.csv')\n",
    "df_test.to_csv('test_bitcoin_sample.csv')\n"
   ]
  }
 ],
 "metadata": {
  "kernelspec": {
   "display_name": "base",
   "language": "python",
   "name": "python3"
  },
  "language_info": {
   "codemirror_mode": {
    "name": "ipython",
    "version": 3
   },
   "file_extension": ".py",
   "mimetype": "text/x-python",
   "name": "python",
   "nbconvert_exporter": "python",
   "pygments_lexer": "ipython3",
   "version": "3.12.2"
  }
 },
 "nbformat": 4,
 "nbformat_minor": 5
}
