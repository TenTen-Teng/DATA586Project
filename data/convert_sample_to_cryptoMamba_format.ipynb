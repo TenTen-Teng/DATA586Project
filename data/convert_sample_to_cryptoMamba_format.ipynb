{
 "cells": [
  {
   "cell_type": "markdown",
   "id": "a11f8bee",
   "metadata": {},
   "source": [
    "# convert_sample_to_cryptoMamba_format.ipynb\n",
    "\n",
    "This script preprocesses a sample Bitcoin dataset (sourced from Kaggle) and converts it into the required format used by the original CryptoMamba project. It includes timestamp conversion, chronological sorting, and time-based splitting into training, validation, and testing sets.\n",
    "\n",
    "In this notebook, two versions of the dataset are prepared:\n",
    "\n",
    "## Version 1 – Original split (used for baseline experiments)\n",
    "\n",
    "### Dataset Info:\n",
    "- Train interval: `2013-04-29` to `2017-04-28`\n",
    "- Validation interval: `2017-04-28` to `2018-04-28`\n",
    "- Test interval: `2018-04-29` to `2019-04-28`\n",
    "- \n",
    "### Output files:\n",
    "- train_bitcoin_v1.csv\n",
    "- val_bitcoin_v1.csv\n",
    "- test_bitcoin_v1.csv\n",
    "\n",
    "## Purpose: \n",
    "Convert raw sample data into CryptoMamba’s expected format to enable consistent and reproducible model training and evaluation across different dataset versions."
   ]
  },
  {
   "cell_type": "code",
   "execution_count": 1,
   "id": "faf2efe7",
   "metadata": {},
   "outputs": [
    {
     "name": "stderr",
     "output_type": "stream",
     "text": [
      "/var/folders/m9/v_7kl_w14lj9f1tgkvdq_cbm0000gn/T/ipykernel_37348/777495076.py:13: FutureWarning: Series.view is deprecated and will be removed in a future version. Use ``astype`` as an alternative to change the dtype.\n",
      "  df['Timestamp'] = df['Date'].view('int64') // 10**9\n"
     ]
    }
   ],
   "source": [
    "import pandas as pd\n",
    "\n",
    "# Step 1: Load the raw Kaggle Bitcoin dataset\n",
    "df = pd.read_csv('coin_Bitcoin.csv')\n",
    "\n",
    "# Step 2: Select only the required columns\n",
    "df = df[['Open', 'High', 'Low', 'Close', 'Volume', 'Date']].copy()\n",
    "\n",
    "# Step 3: Convert 'Date' to datetime format\n",
    "df['Date'] = pd.to_datetime(df['Date'])\n",
    "\n",
    "# Step 4: Add UNIX timestamp column (in seconds)\n",
    "df['Timestamp'] = df['Date'].view('int64') // 10**9\n",
    "\n",
    "# Step 5: Sort chronologically for proper splitting\n",
    "df = df.sort_values('Date').reset_index(drop=True)\n",
    "\n",
    "# Step 6: Define 4y/1y/1y split boundaries based on date\n",
    "start_date = df['Date'].min()\n",
    "train_end = start_date + pd.DateOffset(years=4)\n",
    "val_end = train_end + pd.DateOffset(years=1)\n",
    "test_end = val_end + pd.DateOffset(years=1)\n",
    "\n",
    "# Step 7: Split into train, val, and test sets\n",
    "df_train = df[df['Date'] < train_end].copy()\n",
    "df_val   = df[(df['Date'] >= train_end) & (df['Date'] < val_end)].copy()\n",
    "df_test  = df[(df['Date'] >= val_end) & (df['Date'] < test_end)].copy()\n",
    "\n",
    "# Step 8: Drop 'Date' column (model uses only numeric inputs)\n",
    "for split in [df_train, df_val, df_test]:\n",
    "    split.drop(columns='Date', inplace=True)\n",
    "\n",
    "# Step 9: Save train, val, and test datasets\n",
    "df_train.to_csv('train_bitcoin_v1.csv')\n",
    "df_val.to_csv('val_bitcoin_v1.csv')\n",
    "df_test.to_csv('test_bitcoin_v1.csv')\n"
   ]
  },
  {
   "cell_type": "markdown",
   "id": "8410ba4a",
   "metadata": {},
   "source": [
    "## Version 2:\n",
    "\n",
    "### Dataset info:\n",
    "1. test_interval:\n",
    "- `2019-03-30`\n",
    "- `2019-04-28`\n",
    "2. train_interval:\n",
    "- `2017-01-01`\n",
    "- `2019-02-27`\n",
    "3. val_interval:\n",
    "- `2021-02-28`\n",
    "- `2019-03-29`\n",
    "\n",
    "### Output files:\n",
    "- train_bitcoin_v2.csv\n",
    "- val_bitcoin_v2.csv\n",
    "- test_bitcoin_v2.csv"
   ]
  },
  {
   "cell_type": "code",
   "execution_count": 2,
   "id": "f1add6cf",
   "metadata": {},
   "outputs": [
    {
     "name": "stdout",
     "output_type": "stream",
     "text": [
      "Specified date range: 2017-01-01 to 2019-04-28\n",
      "Training period: 2017-01-01 to 2019-02-27 (787 rows)\n",
      "Validation period (with lookback): 2019-02-14 to 2019-03-29 (43 rows)\n",
      "   - Lookback: 2019-02-14 to 2019-02-27 00:00:00\n",
      "   - Actual validation: 2019-02-28 to 2019-03-29\n",
      "Testing period (with lookback): 2019-03-16 to 2019-04-28 (43 rows)\n",
      "   - Lookback: 2019-03-16 to 2019-03-29 00:00:00\n",
      "   - Actual testing: 2019-03-30 to 2019-04-28\n"
     ]
    },
    {
     "name": "stderr",
     "output_type": "stream",
     "text": [
      "/var/folders/m9/v_7kl_w14lj9f1tgkvdq_cbm0000gn/T/ipykernel_37348/2459187943.py:11: FutureWarning: Series.view is deprecated and will be removed in a future version. Use ``astype`` as an alternative to change the dtype.\n",
      "  df['Timestamp'] = df['Date'].view('int64') // 10**9\n"
     ]
    }
   ],
   "source": [
    "# Step 1: Load the raw Kaggle Bitcoin dataset\n",
    "df = pd.read_csv('coin_Bitcoin.csv')\n",
    "\n",
    "# Step 2: Select only the required columns\n",
    "df = df[['Open', 'High', 'Low', 'Close', 'Volume', 'Date']].copy()\n",
    "\n",
    "# Step 3: Convert 'Date' to datetime format\n",
    "df['Date'] = pd.to_datetime(df['Date'])\n",
    "\n",
    "# Step 4: Add UNIX timestamp column (in seconds)\n",
    "df['Timestamp'] = df['Date'].view('int64') // 10**9\n",
    "\n",
    "# Step 5: Sort chronologically for proper splitting\n",
    "df = df.sort_values('Date').reset_index(drop=True)\n",
    "\n",
    "# Step 6: Override the dataset's actual date range\n",
    "start_date = pd.Timestamp('2017-01-01')\n",
    "end_date = pd.Timestamp('2019-04-28')\n",
    "print(f\"Specified date range: {start_date.strftime('%Y-%m-%d')} to {end_date.strftime('%Y-%m-%d')}\")\n",
    "\n",
    "# Step 7: Filter the dataset to the specified date range\n",
    "df = df[(df['Date'] >= start_date) & (df['Date'] <= end_date)]\n",
    "\n",
    "# Step 8: Define fixed dates for the splits\n",
    "# Testing period: last 30 days of the specified range\n",
    "test_end = end_date\n",
    "test_start = test_end - pd.Timedelta(days=29)  # 30 days inclusive\n",
    "test_lookback_start = test_start - pd.Timedelta(days=14)  # 14-day lookback\n",
    "\n",
    "# Validation period: 30 days before testing\n",
    "val_end = test_start - pd.Timedelta(days=1)\n",
    "val_start = val_end - pd.Timedelta(days=29)  # 30 days inclusive\n",
    "val_lookback_start = val_start - pd.Timedelta(days=14)  # 14-day lookback\n",
    "\n",
    "# Training period: from start_date to before validation start date\n",
    "train_start = start_date\n",
    "train_end = val_start - pd.Timedelta(days=1)\n",
    "\n",
    "# Step 9: Split into train, val, and test sets\n",
    "df_train = df[(df['Date'] >= train_start) & (df['Date'] <= train_end)].copy()\n",
    "df_val = df[(df['Date'] >= val_lookback_start) & (df['Date'] <= val_end)].copy()\n",
    "df_test = df[(df['Date'] >= test_lookback_start) & (df['Date'] <= test_end)].copy()\n",
    "\n",
    "# Step 10: Drop 'Date' column (model uses only numeric inputs)\n",
    "for split in [df_train, df_val, df_test]:\n",
    "    split.drop(columns='Date', inplace=True)\n",
    "\n",
    "#Step 11: Save train, val, and test datasets\n",
    "df_train.to_csv('train_bitcoin_v2.csv', index=True)\n",
    "df_val.to_csv('val_bitcoin_v2.csv', index=True)\n",
    "df_test.to_csv('test_bitcoin_v2.csv', index=True)\n",
    "\n",
    "# Print the date ranges and sizes to verify\n",
    "print(f\"Training period: {train_start.strftime('%Y-%m-%d')} to {train_end.strftime('%Y-%m-%d')} ({df_train.shape[0]} rows)\")\n",
    "print(f\"Validation period (with lookback): {val_lookback_start.strftime('%Y-%m-%d')} to {val_end.strftime('%Y-%m-%d')} ({df_val.shape[0]} rows)\")\n",
    "print(f\"   - Lookback: {val_lookback_start.strftime('%Y-%m-%d')} to {val_start - pd.Timedelta(days=1)}\")\n",
    "print(f\"   - Actual validation: {val_start.strftime('%Y-%m-%d')} to {val_end.strftime('%Y-%m-%d')}\")\n",
    "print(f\"Testing period (with lookback): {test_lookback_start.strftime('%Y-%m-%d')} to {test_end.strftime('%Y-%m-%d')} ({df_test.shape[0]} rows)\")\n",
    "print(f\"   - Lookback: {test_lookback_start.strftime('%Y-%m-%d')} to {test_start - pd.Timedelta(days=1)}\")\n",
    "print(f\"   - Actual testing: {test_start.strftime('%Y-%m-%d')} to {test_end.strftime('%Y-%m-%d')}\")"
   ]
  }
 ],
 "metadata": {
  "kernelspec": {
   "display_name": "base",
   "language": "python",
   "name": "python3"
  },
  "language_info": {
   "codemirror_mode": {
    "name": "ipython",
    "version": 3
   },
   "file_extension": ".py",
   "mimetype": "text/x-python",
   "name": "python",
   "nbconvert_exporter": "python",
   "pygments_lexer": "ipython3",
   "version": "3.12.2"
  }
 },
 "nbformat": 4,
 "nbformat_minor": 5
}
