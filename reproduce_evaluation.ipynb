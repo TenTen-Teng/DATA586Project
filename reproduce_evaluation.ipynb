{
 "cells": [
  {
   "cell_type": "markdown",
   "metadata": {},
   "source": [
    "# Reproduce paper's original results based on original **dataset**\n",
    "\n",
    "This notebook reproduces the original results reported in the paper using the authors’ provided dataset and pretrained model weights. No modifications are made to the data, model architecture, or training settings—ensuring an exact replication of the baseline results.\n",
    "\n",
    "## Purpose: \n",
    "Reproduce the paper’s original performance using their official dataset and weights to establish a baseline before conducting further experiments or modifications."
   ]
  },
  {
   "cell_type": "code",
   "execution_count": null,
   "metadata": {
    "colab": {
     "base_uri": "https://localhost:8080/"
    },
    "executionInfo": {
     "elapsed": 18497,
     "status": "ok",
     "timestamp": 1745021742269,
     "user": {
      "displayName": "Louis Lau",
      "userId": "12589573439444477562"
     },
     "user_tz": 420
    },
    "id": "B4qOsdwyZlTX",
    "outputId": "75bf4c09-d879-4903-dcdc-94214f4cad02"
   },
   "outputs": [
    {
     "name": "stdout",
     "output_type": "stream",
     "text": [
      "Mounted at /content/drive\n"
     ]
    }
   ],
   "source": [
    "# Connect google drive.\n",
    "\n",
    "from google.colab import drive\n",
    "drive.mount('/content/drive')"
   ]
  },
  {
   "cell_type": "code",
   "execution_count": null,
   "metadata": {
    "cellView": "form",
    "colab": {
     "base_uri": "https://localhost:8080/"
    },
    "executionInfo": {
     "elapsed": 843,
     "status": "ok",
     "timestamp": 1745021985377,
     "user": {
      "displayName": "Louis Lau",
      "userId": "12589573439444477562"
     },
     "user_tz": 420
    },
    "id": "WCqI8zrlp99U",
    "outputId": "ba4ea0e9-2b6f-4d7e-97f9-cca99c67f30b"
   },
   "outputs": [
    {
     "name": "stdout",
     "output_type": "stream",
     "text": [
      "Cloning into 'CryptoMamba'...\n",
      "remote: Enumerating objects: 187, done.\u001b[K\n",
      "remote: Counting objects: 100% (55/55), done.\u001b[K\n",
      "remote: Compressing objects: 100% (21/21), done.\u001b[K\n",
      "remote: Total 187 (delta 43), reused 34 (delta 34), pack-reused 132 (from 1)\u001b[K\n",
      "Receiving objects: 100% (187/187), 1.37 MiB | 19.46 MiB/s, done.\n",
      "Resolving deltas: 100% (89/89), done.\n",
      "/content/CryptoMamba\n"
     ]
    }
   ],
   "source": [
    "# Clone repo to current session.\n",
    "!git clone https://github.com/MShahabSepehri/CryptoMamba.git\n",
    "%cd CryptoMamba/"
   ]
  },
  {
   "cell_type": "code",
   "execution_count": null,
   "metadata": {
    "executionInfo": {
     "elapsed": 264947,
     "status": "ok",
     "timestamp": 1745022998053,
     "user": {
      "displayName": "Louis Lau",
      "userId": "12589573439444477562"
     },
     "user_tz": 420
    },
    "id": "QoSiNMCtqGj5"
   },
   "outputs": [],
   "source": [
    "# Install required dependencies.\n",
    "\n",
    "%%capture\n",
    "!pip install mamba-ssm[causal-conv1d]\n",
    "!pip install -r requirements.txt"
   ]
  },
  {
   "cell_type": "code",
   "execution_count": null,
   "metadata": {
    "colab": {
     "base_uri": "https://localhost:8080/"
    },
    "executionInfo": {
     "elapsed": 12765,
     "status": "ok",
     "timestamp": 1745028205925,
     "user": {
      "displayName": "Louis Lau",
      "userId": "12589573439444477562"
     },
     "user_tz": 420
    },
    "id": "lAU_41CEeho4",
    "outputId": "8cc6f05d-dee0-43a2-b9b9-74b105d739bf"
   },
   "outputs": [
    {
     "name": "stdout",
     "output_type": "stream",
     "text": [
      "Seed set to 23\n",
      "['Timestamp', 'Open', 'High', 'Low', 'Close', 'Volume']\n",
      "['Timestamp', 'Open', 'High', 'Low', 'Close', 'Volume']\n",
      "['Timestamp', 'Open', 'High', 'Low', 'Close', 'Volume']\n",
      "1446 data points loaded as train split.\n",
      "/usr/local/lib/python3.11/dist-packages/torch/utils/data/dataloader.py:624: UserWarning: This DataLoader will create 4 worker processes in total. Our suggested max number of worker in current system is 2, which is smaller than what this DataLoader is going to create. Please be aware that excessive worker creation might get DataLoader running slow or even freeze, lower the worker number to avoid potential slowness/freeze if necessary.\n",
      "  warnings.warn(\n",
      "350 data points loaded as val split.\n",
      "350 data points loaded as test split.\n",
      " Split        MSE          RMSE     MAPE      MAE    \n",
      " Train    1390605.625    1179.239  0.02969  682.193  \n",
      "/usr/local/lib/python3.11/dist-packages/torch/utils/data/dataloader.py:624: UserWarning: This DataLoader will create 4 worker processes in total. Our suggested max number of worker in current system is 2, which is smaller than what this DataLoader is going to create. Please be aware that excessive worker creation might get DataLoader running slow or even freeze, lower the worker number to avoid potential slowness/freeze if necessary.\n",
      "  warnings.warn(\n",
      "  Val     359023.312     599.186   0.01686  398.647  \n",
      "/usr/local/lib/python3.11/dist-packages/torch/utils/data/dataloader.py:624: UserWarning: This DataLoader will create 4 worker processes in total. Our suggested max number of worker in current system is 2, which is smaller than what this DataLoader is going to create. Please be aware that excessive worker creation might get DataLoader running slow or even freeze, lower the worker number to avoid potential slowness/freeze if necessary.\n",
      "  warnings.warn(\n",
      " Test      2553899.5     1598.092  0.02034  1120.66  \n"
     ]
    }
   ],
   "source": [
    "# Run inference.\n",
    "!python scripts/evaluation.py --config cmamba_v --ckpt_path ./checkpoints/cmamba_v.ckpt"
   ]
  }
 ],
 "metadata": {
  "accelerator": "GPU",
  "colab": {
   "gpuType": "T4",
   "provenance": [
    {
     "file_id": "https://github.com/MShahabSepehri/CryptoMamba/blob/main/example.ipynb",
     "timestamp": 1744695968383
    }
   ]
  },
  "kernelspec": {
   "display_name": "Python 3",
   "language": "python",
   "name": "python3"
  },
  "language_info": {
   "codemirror_mode": {
    "name": "ipython",
    "version": 3
   },
   "file_extension": ".py",
   "mimetype": "text/x-python",
   "name": "python",
   "nbconvert_exporter": "python",
   "pygments_lexer": "ipython3",
   "version": "3.9.5"
  }
 },
 "nbformat": 4,
 "nbformat_minor": 1
}
